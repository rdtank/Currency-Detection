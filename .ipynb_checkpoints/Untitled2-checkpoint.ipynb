{
 "cells": [
  {
   "cell_type": "markdown",
   "metadata": {},
   "source": [
    "<h1><center>Preprocessing of dataset</center></h1>"
   ]
  },
  {
   "cell_type": "code",
   "execution_count": 1,
   "metadata": {},
   "outputs": [
    {
     "name": "stderr",
     "output_type": "stream",
     "text": [
      "Using TensorFlow backend.\n"
     ]
    }
   ],
   "source": [
    "import os,cv2   #For preprocessing dataset\n",
    "import numpy as np     #For arrays and metrix\n",
    "import matplotlib.pyplot as plt   #for plot graph\n",
    "\n",
    "from sklearn.utils import shuffle  #Shuffle element\n",
    "from sklearn.model_selection import train_test_split   #Split data into training and testing data\n",
    "\n",
    "from keras.utils import np_utils   \n",
    "from keras.models import Sequential \n",
    "from keras.layers import Conv2D, MaxPooling2D\n",
    "from keras.layers import Dense, Activation, Dropout, Flatten\n",
    "from keras.optimizers import SGD, RMSprop, adam\n"
   ]
  },
  {
   "cell_type": "code",
   "execution_count": 2,
   "metadata": {},
   "outputs": [],
   "source": [
    "IMG_SIZE = 200\n",
    "NUM_CHANNEL = 1\n",
    "\n",
    "training_data = []\n",
    "\n",
    "DATADIR = \"D:/ML/CD/train\"\n",
    "CATEGORIES = [\"ten\", \"twenty\", \"fifty\", \"hundred\"]\n",
    "\n",
    "\n"
   ]
  },
  {
   "cell_type": "code",
   "execution_count": 3,
   "metadata": {},
   "outputs": [
    {
     "name": "stdout",
     "output_type": "stream",
     "text": [
      "Loading the image of dataset-ten\n",
      "\n",
      "Loading the image of dataset-twenty\n",
      "\n",
      "Loading the image of dataset-fifty\n",
      "\n",
      "Loading the image of dataset-hundred\n",
      "\n"
     ]
    }
   ],
   "source": [
    "def create_training_data():\n",
    "    for category in CATEGORIES:\n",
    "        img_list=os.listdir(DATADIR + '/' + category)\n",
    "        print('Loading the image of dataset-'+'{}\\n'.format(category))\n",
    "        for img in img_list:\n",
    "            input_img=cv2.imread(DATADIR + '/' + category + '/' + img, cv2.IMREAD_GRAYSCALE)\n",
    "            input_img_resize=cv2.resize(input_img, (IMG_SIZE,IMG_SIZE))\n",
    "            training_data.append(input_img_resize)\n",
    "            #plt.imshow(input_img_resize, cmap='gray')\n",
    "            #plt.show()\n",
    "            \n",
    "        \n",
    "create_training_data()\n",
    "img_data = np.array(training_data)\n",
    "img_data = img_data.astype('float32')\n",
    "img_data /= 255.0\n"
   ]
  },
  {
   "cell_type": "code",
   "execution_count": 4,
   "metadata": {},
   "outputs": [
    {
     "data": {
      "text/plain": [
       "(1400, 200, 200)"
      ]
     },
     "execution_count": 4,
     "metadata": {},
     "output_type": "execute_result"
    }
   ],
   "source": [
    "img_data.shape"
   ]
  },
  {
   "cell_type": "code",
   "execution_count": 5,
   "metadata": {},
   "outputs": [
    {
     "data": {
      "text/plain": [
       "(1400, 200, 200, 1)"
      ]
     },
     "execution_count": 5,
     "metadata": {},
     "output_type": "execute_result"
    }
   ],
   "source": [
    "#to convert img_data into 1600, 200, 200, 1  we need tf\n",
    "\n",
    "img_data = np.expand_dims(img_data, axis=3)\n",
    "img_data.shape"
   ]
  },
  {
   "cell_type": "code",
   "execution_count": 6,
   "metadata": {},
   "outputs": [
    {
     "data": {
      "text/plain": [
       "array([[1., 0., 0., 0.],\n",
       "       [1., 0., 0., 0.],\n",
       "       [1., 0., 0., 0.],\n",
       "       ...,\n",
       "       [0., 0., 0., 1.],\n",
       "       [0., 0., 0., 1.],\n",
       "       [0., 0., 0., 1.]], dtype=float32)"
      ]
     },
     "execution_count": 6,
     "metadata": {},
     "output_type": "execute_result"
    }
   ],
   "source": [
    "num_classes = 4\n",
    "num_of_samples = img_data.shape[0]\n",
    "\n",
    "labels = np.ones((num_of_samples,), dtype='int64')\n",
    "\n",
    "labels[0:350] = 0\n",
    "labels[350:700] = 1\n",
    "labels[700:1050] = 2\n",
    "labels[1050:] = 3\n",
    "\n",
    "Y = np_utils.to_categorical(labels, num_classes)  # convert class labels to on-hot encoding\n",
    "Y"
   ]
  },
  {
   "cell_type": "code",
   "execution_count": 7,
   "metadata": {},
   "outputs": [],
   "source": [
    "x,y = shuffle(img_data, Y, random_state=2)\n",
    "\n",
    "X_train, X_test, y_train, y_test = train_test_split(x, y, test_size=0.2, random_state=4)\n",
    "\n"
   ]
  },
  {
   "cell_type": "markdown",
   "metadata": {},
   "source": [
    "<h1><center>Building and Training Model</center></h1>"
   ]
  },
  {
   "cell_type": "code",
   "execution_count": null,
   "metadata": {},
   "outputs": [
    {
     "name": "stdout",
     "output_type": "stream",
     "text": [
      "Train on 784 samples, validate on 336 samples\n",
      "Epoch 1/5\n"
     ]
    }
   ],
   "source": [
    "model = Sequential()\n",
    "\n",
    "model.add(Conv2D(32, (3, 3), activation='relu', input_shape))\n",
    "\n",
    "\n",
    "model.add(Flatten())\n",
    "model.add(Dense(4, activation='softmax'))\n",
    "\n",
    "model.compile(optimizer = \"adam\", loss = \"categorical_crossentropy\", metrics = [\"accuracy\"])\n",
    "\n",
    "# model.summary()\n",
    "\n",
    "model.compile(loss=\"categorical_crossentropy\", optimizer=\"adam\", metrics=[\"accuracy\"])\n",
    "\n",
    "hist=model.fit(X_train, y_train, batch_size=64, epochs=5, verbose=1, validation_split=0.3)"
   ]
  },
  {
   "cell_type": "code",
   "execution_count": null,
   "metadata": {},
   "outputs": [],
   "source": []
  }
 ],
 "metadata": {
  "kernelspec": {
   "display_name": "Python 3",
   "language": "python",
   "name": "python3"
  },
  "language_info": {
   "codemirror_mode": {
    "name": "ipython",
    "version": 3
   },
   "file_extension": ".py",
   "mimetype": "text/x-python",
   "name": "python",
   "nbconvert_exporter": "python",
   "pygments_lexer": "ipython3",
   "version": "3.6.7"
  }
 },
 "nbformat": 4,
 "nbformat_minor": 4
}
